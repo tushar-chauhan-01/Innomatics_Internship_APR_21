{
 "cells": [
  {
   "cell_type": "markdown",
   "metadata": {},
   "source": [
    "# Polar Coordinates"
   ]
  },
  {
   "cell_type": "code",
   "execution_count": 8,
   "metadata": {},
   "outputs": [
    {
     "name": "stdout",
     "output_type": "stream",
     "text": [
      "Enter complex number : 1+2j\n",
      "2.236\n",
      "1.107\n"
     ]
    }
   ],
   "source": [
    "import cmath\n",
    "c = complex(input(\"Enter complex number : \"))\n",
    "print(format(abs(c),\".3f\"))\n",
    "print(format(cmath.phase(c),\".3f\"))"
   ]
  },
  {
   "cell_type": "markdown",
   "metadata": {},
   "source": [
    "# find angle mbc"
   ]
  },
  {
   "cell_type": "code",
   "execution_count": 11,
   "metadata": {},
   "outputs": [
    {
     "name": "stdout",
     "output_type": "stream",
     "text": [
      "enter 1st no. : 10\n",
      "enter 2nd no. : 10\n",
      "45°\n"
     ]
    }
   ],
   "source": [
    "import math\n",
    "a = int(input(\"enter 1st no. : \"))\n",
    "b = int(input(\"enter 2nd no. : \"))\n",
    "angle=int(round(math.degrees(math.atan2(a,b))))\n",
    "print(str(angle)+'°')"
   ]
  },
  {
   "attachments": {
    "image.png": {
     "image/png": "[encoded data removed]"
    }
   },
   "cell_type": "markdown",
   "metadata": {},
   "source": [
    "![image.png](attachment:image.png)"
   ]
  },
  {
   "cell_type": "markdown",
   "metadata": {},
   "source": [
    "# triangle quest 2"
   ]
  },
  {
   "cell_type": "code",
   "execution_count": 12,
   "metadata": {},
   "outputs": [
    {
     "name": "stdout",
     "output_type": "stream",
     "text": [
      "Enter size of palindrome triangle : 5\n",
      "1\n",
      "121\n",
      "12321\n",
      "1234321\n",
      "123454321\n"
     ]
    }
   ],
   "source": [
    "for i in range(1,int(input(\"Enter size of palindrome triangle : \"))+1):\n",
    "    print(((10 ** i - 1) // 9) ** 2)"
   ]
  },
  {
   "cell_type": "markdown",
   "metadata": {},
   "source": [
    "# Mod divmod"
   ]
  },
  {
   "cell_type": "code",
   "execution_count": 15,
   "metadata": {},
   "outputs": [
    {
     "name": "stdout",
     "output_type": "stream",
     "text": [
      "enter 1st no. : 177\n",
      "enter 2nd no. : 10\n",
      "17\n",
      "7\n",
      "(17, 7)\n"
     ]
    }
   ],
   "source": [
    "a = int(input(\"enter 1st no. : \"))\n",
    "b = int(input(\"enter 2nd no. : \"))\n",
    "print(a//b)\n",
    "print(a%b)\n",
    "print(divmod(a,b))"
   ]
  },
  {
   "cell_type": "markdown",
   "metadata": {},
   "source": [
    "# power - mod power\n",
    "\n",
    "Here,a and b can be floats or negatives, but, if a third argument is present, b cannot be negative.\n",
    "\n",
    " Python has a math module that has its own pow(). It takes two arguments and returns a float. It is uncommon to use math.pow()."
   ]
  },
  {
   "cell_type": "code",
   "execution_count": 16,
   "metadata": {},
   "outputs": [
    {
     "name": "stdout",
     "output_type": "stream",
     "text": [
      "enter 1st no. : 3\n",
      "enter 2nd no. : 4\n",
      "enter divisor : 5\n",
      "81\n",
      "1\n"
     ]
    }
   ],
   "source": [
    "a = int(input(\"enter 1st no. : \"))\n",
    "b = int(input(\"enter 2nd no. : \"))\n",
    "m = int(input(\"enter divisor : \"))\n",
    "print(pow(a,b))\n",
    "print(pow(a,b,m))"
   ]
  },
  {
   "cell_type": "markdown",
   "metadata": {},
   "source": [
    "# Integer comes in all sizes"
   ]
  },
  {
   "cell_type": "code",
   "execution_count": 18,
   "metadata": {},
   "outputs": [
    {
     "name": "stdout",
     "output_type": "stream",
     "text": [
      "enter 1st no. : 9\n",
      "enter power of 1st number : 29\n",
      "enter 2nd no. : 7\n",
      "enter power of 2nd number : 27\n",
      "4710194409608608369201743232\n"
     ]
    }
   ],
   "source": [
    "a = int(input(\"enter 1st no. : \"))\n",
    "b = int(input(\"enter power of 1st number : \"))\n",
    "c = int(input(\"enter 2nd no. : \"))\n",
    "d = int(input(\"enter power of 2nd number : \"))\n",
    "print(pow(a,b)+pow(c,d))"
   ]
  },
  {
   "cell_type": "markdown",
   "metadata": {},
   "source": [
    "# Triangle quest"
   ]
  },
  {
   "cell_type": "code",
   "execution_count": 21,
   "metadata": {},
   "outputs": [
    {
     "name": "stdout",
     "output_type": "stream",
     "text": [
      "enter size of triangle : 5\n",
      "1\n",
      "22\n",
      "333\n",
      "4444\n",
      "55555\n"
     ]
    }
   ],
   "source": [
    "\n",
    "for i in range(1,(int(input(\"enter size of triangle : \"))+1)):\n",
    "    print(f\"{i}\"*i)"
   ]
  },
  {
   "cell_type": "code",
   "execution_count": null,
   "metadata": {},
   "outputs": [],
   "source": []
  }
 ],
 "metadata": {
  "kernelspec": {
   "display_name": "Python 3",
   "language": "python",
   "name": "python3"
  },
  "language_info": {
   "codemirror_mode": {
    "name": "ipython",
    "version": 3
   },
   "file_extension": ".py",
   "mimetype": "text/x-python",
   "name": "python",
   "nbconvert_exporter": "python",
   "pygments_lexer": "ipython3",
   "version": "3.8.5"
  }
 },
 "nbformat": 4,
 "nbformat_minor": 4
}
