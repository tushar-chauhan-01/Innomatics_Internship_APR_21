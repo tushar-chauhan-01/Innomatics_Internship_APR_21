{
 "cells": [
  {
   "cell_type": "markdown",
   "metadata": {},
   "source": [
    "# List Comprehensions\n",
    "\n",
    "Let's learn about list comprehensions! You are given three integers x,y and z representing the dimensions of a cuboid along with an integer n . Print a list of all possible coordinates given by (i,j,k) on a 3D grid where the sum of i+j+k is not equal to n.\n",
    "\n",
    "0<=i<=x\n",
    "\n",
    "o<=j<=y\n",
    "\n",
    "0<=k<=z\n",
    "\n",
    "Please use list comprehensions rather than multiple loops, as a learning exercise."
   ]
  },
  {
   "cell_type": "code",
   "execution_count": 2,
   "metadata": {},
   "outputs": [
    {
     "name": "stdout",
     "output_type": "stream",
     "text": [
      "enter x : 1\n",
      "enter y : 1\n",
      "enter z : 1\n",
      "enter n : 2\n",
      "[[0, 0, 0], [0, 0, 1], [0, 1, 0], [1, 0, 0], [1, 1, 1]]\n"
     ]
    }
   ],
   "source": [
    "x = int(input(\"enter x : \"))\n",
    "y = int(input(\"enter y : \"))\n",
    "z = int(input(\"enter z : \"))\n",
    "n = int(input(\"enter n : \"))\n",
    "\n",
    "list = [[X, Y, Z] for X in range(x+1) for Y in range(y+1) for Z in range(z+1) if (X + Y + Z) != n]\n",
    "print(list)"
   ]
  },
  {
   "cell_type": "code",
   "execution_count": 3,
   "metadata": {},
   "outputs": [
    {
     "name": "stdout",
     "output_type": "stream",
     "text": [
      "enter x : 2\n",
      "enter y : 2\n",
      "enter z : 2\n",
      "enter n : 2\n",
      "[[0, 0, 0], [0, 0, 1], [0, 1, 0], [0, 1, 2], [0, 2, 1], [0, 2, 2], [1, 0, 0], [1, 0, 2], [1, 1, 1], [1, 1, 2], [1, 2, 0], [1, 2, 1], [1, 2, 2], [2, 0, 1], [2, 0, 2], [2, 1, 0], [2, 1, 1], [2, 1, 2], [2, 2, 0], [2, 2, 1], [2, 2, 2]]\n"
     ]
    }
   ],
   "source": [
    "x = int(input(\"enter x : \"))\n",
    "y = int(input(\"enter y : \"))\n",
    "z = int(input(\"enter z : \"))\n",
    "n = int(input(\"enter n : \"))\n",
    "\n",
    "list = [[X, Y, Z] for X in range(x+1) for Y in range(y+1) for Z in range(z+1) if (X + Y + Z) != n]\n",
    "print(list)"
   ]
  },
  {
   "cell_type": "markdown",
   "metadata": {},
   "source": [
    "# Find the Runner-Up Score!\n",
    "Given the participants' score sheet for your University Sports Day, you are required to find the runner-up score. You are given  scores. Store them in a list and find the score of the runner-up.\n",
    "\n",
    "The first line contains n . The second line contains an array A[] of n integers each separated by a space.\n",
    "\n",
    "2<=n<=10\n",
    "\n",
    "-100<=A[i]<=100"
   ]
  },
  {
   "cell_type": "code",
   "execution_count": 45,
   "metadata": {},
   "outputs": [
    {
     "name": "stdout",
     "output_type": "stream",
     "text": [
      "5\n"
     ]
    }
   ],
   "source": [
    "n=int(input())"
   ]
  },
  {
   "cell_type": "code",
   "execution_count": 46,
   "metadata": {},
   "outputs": [
    {
     "name": "stdout",
     "output_type": "stream",
     "text": [
      "2\n",
      "4\n",
      "6\n",
      "6\n",
      "5\n"
     ]
    }
   ],
   "source": [
    "a=[]\n",
    "for i in range(n):\n",
    "    b=int(input())\n",
    "    a.append(b)"
   ]
  },
  {
   "cell_type": "code",
   "execution_count": 49,
   "metadata": {},
   "outputs": [
    {
     "data": {
      "text/plain": [
       "[6, 6, 5, 4, 2]"
      ]
     },
     "execution_count": 49,
     "metadata": {},
     "output_type": "execute_result"
    }
   ],
   "source": [
    "a.sort(reverse=True)\n",
    "a"
   ]
  },
  {
   "cell_type": "code",
   "execution_count": 53,
   "metadata": {
    "scrolled": true
   },
   "outputs": [
    {
     "name": "stdout",
     "output_type": "stream",
     "text": [
      "5\n"
     ]
    }
   ],
   "source": [
    "for i in range(len(a)):\n",
    "    if a[i]<a[1]:\n",
    "        print(a[i])\n",
    "        break"
   ]
  },
  {
   "cell_type": "markdown",
   "metadata": {},
   "source": [
    "# nested list\n",
    "\n",
    "Given the names and grades for each student in a class of N students, store them in a nested list and print the name(s) of any student(s) having the second lowest grade.\n",
    "\n",
    "Note: If there are multiple students with the second lowest grade, order their names alphabetically and print each name on a new line."
   ]
  },
  {
   "cell_type": "code",
   "execution_count": 92,
   "metadata": {
    "scrolled": true
   },
   "outputs": [
    {
     "name": "stdout",
     "output_type": "stream",
     "text": [
      "5\n",
      "harsh\n",
      "39\n",
      "harry\n",
      "37.21\n",
      "akriti\n",
      "41\n",
      "tina\n",
      "37.2\n",
      "berry\n",
      "37.21\n"
     ]
    }
   ],
   "source": [
    "a = []\n",
    "for i in range(int(input())):\n",
    "  x, y = (input(),float(input()))\n",
    "  a.append((y, x))\n",
    "a.sort()"
   ]
  },
  {
   "cell_type": "code",
   "execution_count": 93,
   "metadata": {},
   "outputs": [
    {
     "data": {
      "text/plain": [
       "[(37.2, 'tina'),\n",
       " (37.21, 'berry'),\n",
       " (37.21, 'harry'),\n",
       " (39.0, 'harsh'),\n",
       " (41.0, 'akriti')]"
      ]
     },
     "execution_count": 93,
     "metadata": {},
     "output_type": "execute_result"
    }
   ],
   "source": [
    "a"
   ]
  },
  {
   "cell_type": "code",
   "execution_count": 94,
   "metadata": {},
   "outputs": [
    {
     "data": {
      "text/plain": [
       "37.21"
      ]
     },
     "execution_count": 94,
     "metadata": {},
     "output_type": "execute_result"
    }
   ],
   "source": [
    "min=a[0]\n",
    "for i in range(len(a)):\n",
    "    if a[i]>min:\n",
    "        s_min=a[i]\n",
    "        break\n",
    "        \n",
    "s_min=s_min[0]\n",
    "s_min"
   ]
  },
  {
   "cell_type": "code",
   "execution_count": 95,
   "metadata": {},
   "outputs": [
    {
     "name": "stdout",
     "output_type": "stream",
     "text": [
      "berry\n",
      "harry\n"
     ]
    }
   ],
   "source": [
    "for i in range(len(a)):\n",
    "    if a[i][0] == s_min:\n",
    "        print(a[i][1])"
   ]
  },
  {
   "cell_type": "markdown",
   "metadata": {},
   "source": [
    "# Finding the percentage\n",
    "\n",
    "The provided code stub will read in a dictionary containing key/value pairs of name:[marks] for a list of students. Print the average of the marks array for the student name provided, showing 2 places after the decimal."
   ]
  },
  {
   "cell_type": "code",
   "execution_count": 98,
   "metadata": {},
   "outputs": [
    {
     "name": "stdout",
     "output_type": "stream",
     "text": [
      "how many students : 3\n",
      "enter name and marks with spaces in between then :harsh 23 43 23\n",
      "enter name and marks with spaces in between then :aditya 23 43 54\n",
      "enter name and marks with spaces in between then :aditi 32 54 34\n",
      "aditya\n",
      "40.00\n"
     ]
    }
   ],
   "source": [
    "data = {}\n",
    "for _ in range(int(input(\"how many students : \"))):\n",
    "    name, *marks = input(\"enter name and marks with spaces in between then :\").split()\n",
    "    data[name] = [float(m) for m in marks]\n",
    "marks = data[input()]\n",
    "print(\"%.2f\" % (sum(marks)/len(marks)))"
   ]
  },
  {
   "cell_type": "markdown",
   "metadata": {},
   "source": [
    "# List\n",
    "Consider a list (list = []). You can perform the following commands:\n",
    "\n",
    "insert i e: Insert integer  at position .\n",
    "\n",
    "print: Print the list.\n",
    "\n",
    "remove e: Delete the first occurrence of integer .\n",
    "\n",
    "append e: Insert integer  at the end of the list.\n",
    "\n",
    "sort: Sort the list.\n",
    "\n",
    "pop: Pop the last element from the list.\n",
    "\n",
    "reverse: Reverse the list."
   ]
  },
  {
   "cell_type": "code",
   "execution_count": 104,
   "metadata": {},
   "outputs": [
    {
     "name": "stdout",
     "output_type": "stream",
     "text": [
      "Enter number of time you want to perform function : 5\n",
      "commandappend\n",
      "Enter adding number :23\n",
      "commandappend\n",
      "Enter adding number :54\n",
      "commandinsert\n",
      "enter position 1\n",
      "Enter number :56\n",
      "commandcount\n",
      "Enter counting number :56\n",
      "1\n",
      "commandprint\n",
      "[23, 56, 54]\n"
     ]
    }
   ],
   "source": [
    "test =int(input(\"Enter number of time you want to perform function : \"))\n",
    "s=[]\n",
    "for i in range (test):\n",
    "    cmd=input(\"command\")\n",
    "    \n",
    "    if cmd=='insert':\n",
    "        s.insert(int(input(\"enter position \")),int(input(\"Enter number :\")))\n",
    "    elif cmd==\"remove\":\n",
    "        s.remove(int(input(\"Enter removing number :\")))\n",
    "    elif cmd==\"append\":\n",
    "        s.append(int(input(\"Enter adding number :\")))\n",
    "    elif cmd==\"sort\":\n",
    "        s.sort()\n",
    "    elif cmd==\"pop\":\n",
    "        s.pop()\n",
    "    elif cmd==\"reverse\":\n",
    "        s.reverse()\n",
    "    elif cmd==\"count\":\n",
    "        v=s.count(int(input(\"Enter counting number :\")))\n",
    "        print(v)\n",
    "    elif cmd==\"index\":\n",
    "        x=s.index(int(input(\"Enter number for its index :\")))\n",
    "        print(x)\n",
    "   \n",
    "    elif cmd== 'print':\n",
    "        print(s)"
   ]
  },
  {
   "cell_type": "markdown",
   "metadata": {},
   "source": [
    "# tuple \n",
    "Task\n",
    "Given an integer,n, and n space-separated integers as input, create a tuple,t, of those n integers. Then compute and print the result ofhast(t) ."
   ]
  },
  {
   "cell_type": "code",
   "execution_count": 107,
   "metadata": {},
   "outputs": [
    {
     "name": "stdout",
     "output_type": "stream",
     "text": [
      "4\n",
      "1 2 3 4\n",
      "590899387183067792\n"
     ]
    }
   ],
   "source": [
    "input()\n",
    "l = map(int, input().strip().split(\" \"))\n",
    "print(hash(tuple(l)))"
   ]
  },
  {
   "cell_type": "markdown",
   "metadata": {},
   "source": [
    "# intro to sets\n",
    "\n",
    "Now, let's use our knowledge of sets and help Mickey.\n",
    "\n",
    "Ms. Gabriel Williams is a botany professor at District College. One day, she asked her student Mickey to compute the average of all the plants with distinct heights in her greenhouse."
   ]
  },
  {
   "cell_type": "markdown",
   "metadata": {},
   "source": [
    "#### Input Format\n",
    "\n",
    "The first line contains the integer,N , the size of arr.\n",
    "\n",
    "The second line contains the N space-separated integers, arr[i]."
   ]
  },
  {
   "cell_type": "code",
   "execution_count": 113,
   "metadata": {},
   "outputs": [
    {
     "name": "stdout",
     "output_type": "stream",
     "text": [
      "number of plants in greenhouse : 7\n",
      "enter heights with spaces123 234 345 321 345 237 532\n",
      "298.667\n"
     ]
    }
   ],
   "source": [
    "nop = int(input(\"number of plants in greenhouse : \"))\n",
    "ph= map(int, input(\"enter heights with spaces\").split())\n",
    "\n",
    "distinct_heights = set(ph)\n",
    "average = sum(distinct_heights) / len(distinct_heights)\n",
    "print(\"%.3f\" %average)"
   ]
  },
  {
   "cell_type": "markdown",
   "metadata": {},
   "source": [
    "# set operations"
   ]
  },
  {
   "cell_type": "code",
   "execution_count": 114,
   "metadata": {},
   "outputs": [
    {
     "name": "stdout",
     "output_type": "stream",
     "text": [
      "size of N list : 4\n",
      "23 43 54 65\n",
      "size of second list : 6\n",
      "23 43 57 53 33\n",
      "{33, 65, 53, 54, 57}\n"
     ]
    }
   ],
   "source": [
    "N = int(input(\"size of N list : \"))\n",
    "N_list = map(int, input().split(' '))\n",
    "M = int(input(\"size of second list : \"))\n",
    "M_list = map(int, input().split(' '))\n",
    "\n",
    "N_set = set(N_list)\n",
    "M_set = set(M_list)\n",
    "\n",
    "print(N_set.symmetric_difference(M_set))"
   ]
  },
  {
   "cell_type": "code",
   "execution_count": 116,
   "metadata": {},
   "outputs": [
    {
     "data": {
      "text/plain": [
       "{23, 43, 54, 65, 100}"
      ]
     },
     "execution_count": 116,
     "metadata": {},
     "output_type": "execute_result"
    }
   ],
   "source": [
    "N_set.add(100)\n",
    "N_set"
   ]
  },
  {
   "cell_type": "code",
   "execution_count": 117,
   "metadata": {},
   "outputs": [
    {
     "data": {
      "text/plain": [
       "{23, 43, 54, 65}"
      ]
     },
     "execution_count": 117,
     "metadata": {},
     "output_type": "execute_result"
    }
   ],
   "source": [
    "N_set.remove(100)\n",
    "N_set"
   ]
  },
  {
   "cell_type": "code",
   "execution_count": 118,
   "metadata": {},
   "outputs": [
    {
     "data": {
      "text/plain": [
       "{23, 43, 65}"
      ]
     },
     "execution_count": 118,
     "metadata": {},
     "output_type": "execute_result"
    }
   ],
   "source": [
    "N_set.discard(54)\n",
    "N_set"
   ]
  },
  {
   "cell_type": "code",
   "execution_count": 119,
   "metadata": {},
   "outputs": [
    {
     "data": {
      "text/plain": [
       "{23, 43, 53, 57}"
      ]
     },
     "execution_count": 119,
     "metadata": {},
     "output_type": "execute_result"
    }
   ],
   "source": [
    "M_set.pop()\n",
    "M_set"
   ]
  },
  {
   "cell_type": "code",
   "execution_count": 120,
   "metadata": {},
   "outputs": [
    {
     "data": {
      "text/plain": [
       "{23, 43, 53, 57, 65}"
      ]
     },
     "execution_count": 120,
     "metadata": {},
     "output_type": "execute_result"
    }
   ],
   "source": [
    "N_set.union(M_set)"
   ]
  },
  {
   "cell_type": "code",
   "execution_count": 121,
   "metadata": {},
   "outputs": [
    {
     "data": {
      "text/plain": [
       "{23, 43}"
      ]
     },
     "execution_count": 121,
     "metadata": {},
     "output_type": "execute_result"
    }
   ],
   "source": [
    "N_set.intersection(M_set)"
   ]
  },
  {
   "cell_type": "code",
   "execution_count": 122,
   "metadata": {},
   "outputs": [
    {
     "data": {
      "text/plain": [
       "{53, 57}"
      ]
     },
     "execution_count": 122,
     "metadata": {},
     "output_type": "execute_result"
    }
   ],
   "source": [
    "M_set.difference(N_set)"
   ]
  },
  {
   "cell_type": "code",
   "execution_count": 123,
   "metadata": {},
   "outputs": [
    {
     "data": {
      "text/plain": [
       "False"
      ]
     },
     "execution_count": 123,
     "metadata": {},
     "output_type": "execute_result"
    }
   ],
   "source": [
    "M_set.issubset(N_set)"
   ]
  },
  {
   "cell_type": "code",
   "execution_count": 124,
   "metadata": {},
   "outputs": [
    {
     "data": {
      "text/plain": [
       "False"
      ]
     },
     "execution_count": 124,
     "metadata": {},
     "output_type": "execute_result"
    }
   ],
   "source": [
    "M_set.issuperset(N_set)"
   ]
  },
  {
   "cell_type": "code",
   "execution_count": 125,
   "metadata": {},
   "outputs": [
    {
     "data": {
      "text/plain": [
       "False"
      ]
     },
     "execution_count": 125,
     "metadata": {},
     "output_type": "execute_result"
    }
   ],
   "source": [
    "M_set.isdisjoint(N_set)"
   ]
  },
  {
   "cell_type": "code",
   "execution_count": 128,
   "metadata": {},
   "outputs": [
    {
     "name": "stdout",
     "output_type": "stream",
     "text": [
      "{'e', 'R', 'c', 'H', 'n', 'k', 'a', 'r'}\n"
     ]
    }
   ],
   "source": [
    "H = set(\"Hacker\")\n",
    "R = set(\"Rank\")\n",
    "H.update(R)\n",
    "print(H)"
   ]
  },
  {
   "cell_type": "code",
   "execution_count": 130,
   "metadata": {},
   "outputs": [
    {
     "data": {
      "text/plain": [
       "{'H', 'c', 'e', 'r'}"
      ]
     },
     "execution_count": 130,
     "metadata": {},
     "output_type": "execute_result"
    }
   ],
   "source": [
    "H.difference_update(R)\n",
    "H"
   ]
  },
  {
   "cell_type": "markdown",
   "metadata": {},
   "source": [
    "# The Captain's Room\n",
    "\n",
    "Mr. Anant Asankhya is the manager at the INFINITE hotel. The hotel has an infinite amount of rooms.\n",
    "\n",
    "One fine day, a finite number of tourists come to stay at the hotel.\n",
    "The tourists consist of:\n",
    "\n",
    "→ A Captain.\n",
    "\n",
    "→ An unknown group of families consisting of K members per group where K ≠ 1 .\n",
    "\n",
    "The Captain was given a separate room, and the rest were given one room per group.\n",
    "\n",
    "Mr. Anant has an unordered list of randomly arranged room entries. The list consists of the room numbers for all of the tourists. The room numbers will appear K times per group except for the Captain's room.\n",
    "\n",
    "Mr. Anant needs you to help him find the Captain's room number.\n",
    "The total number of tourists or the total number of groups of families is not known to you.\n",
    "You only know the value of K and the room number list.\n",
    "\n",
    "Input Format\n",
    "\n",
    "The first line consists of an integer, K, the size of each group.\n",
    "\n",
    "The second line contains the unordered elements of the room number list.\n"
   ]
  },
  {
   "cell_type": "markdown",
   "metadata": {},
   "source": [
    "Output Format\n",
    "\n",
    "Output the Captain's room number.\n",
    "\n",
    "1<K<1000"
   ]
  },
  {
   "cell_type": "code",
   "execution_count": 134,
   "metadata": {},
   "outputs": [
    {
     "name": "stdout",
     "output_type": "stream",
     "text": [
      "enter number of groups : 3\n",
      "enter room numbers : 5 6 7 5 6 7 5 6 7 5 6 7 3\n",
      "3\n"
     ]
    }
   ],
   "source": [
    "k = int(input(\"enter number of groups : \"))\n",
    "room_nums = map(int, input(\"enter room numbers : \").split())\n",
    "\n",
    "from collections import Counter\n",
    "counts = Counter(room_nums)\n",
    "for num, count in counts.items():\n",
    "    if count ==1:\n",
    "        print(num)\n",
    "        break\n"
   ]
  },
  {
   "cell_type": "code",
   "execution_count": 135,
   "metadata": {},
   "outputs": [
    {
     "data": {
      "text/plain": [
       "Counter({5: 4, 6: 4, 7: 4, 3: 1})"
      ]
     },
     "execution_count": 135,
     "metadata": {},
     "output_type": "execute_result"
    }
   ],
   "source": [
    "counts"
   ]
  },
  {
   "cell_type": "code",
   "execution_count": null,
   "metadata": {},
   "outputs": [],
   "source": []
  }
 ],
 "metadata": {
  "kernelspec": {
   "display_name": "Python 3",
   "language": "python",
   "name": "python3"
  },
  "language_info": {
   "codemirror_mode": {
    "name": "ipython",
    "version": 3
   },
   "file_extension": ".py",
   "mimetype": "text/x-python",
   "name": "python",
   "nbconvert_exporter": "python",
   "pygments_lexer": "ipython3",
   "version": "3.8.5"
  }
 },
 "nbformat": 4,
 "nbformat_minor": 4
}
