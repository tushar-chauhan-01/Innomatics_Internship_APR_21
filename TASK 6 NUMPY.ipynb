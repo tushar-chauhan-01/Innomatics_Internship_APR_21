{
 "cells": [
  {
   "cell_type": "markdown",
   "metadata": {},
   "source": [
    "# ARRAY"
   ]
  },
  {
   "cell_type": "code",
   "execution_count": 2,
   "metadata": {},
   "outputs": [
    {
     "name": "stdout",
     "output_type": "stream",
     "text": [
      "enter the input numbers : 1 2 3 4 -8 -10\n",
      "[-10.  -8.   4.   3.   2.   1.]\n"
     ]
    }
   ],
   "source": [
    "import numpy\n",
    "arr = [float(i) for i in input(\"enter the input numbers : \").strip().split()]\n",
    "arr.reverse()\n",
    "print(numpy.array(arr,float))"
   ]
  },
  {
   "cell_type": "markdown",
   "metadata": {},
   "source": [
    "# shape reshape"
   ]
  },
  {
   "cell_type": "code",
   "execution_count": 7,
   "metadata": {},
   "outputs": [
    {
     "name": "stdout",
     "output_type": "stream",
     "text": [
      "enter the input numbers : 1 2 3 4 5 6 7 8 9\n",
      "(9,)\n",
      "reshaped : \n",
      "[[1 2 3]\n",
      " [4 5 6]\n",
      " [7 8 9]]\n"
     ]
    }
   ],
   "source": [
    "arr = [int(i) for i in input(\"enter the input numbers : \").strip().split()]\n",
    "N_array=numpy.array(arr)\n",
    "print(N_array.shape)\n",
    "print(\"reshaped : \")\n",
    "print(numpy.reshape(N_array,(3,3)))"
   ]
  },
  {
   "cell_type": "markdown",
   "metadata": {},
   "source": [
    "# transpose and flatten"
   ]
  },
  {
   "cell_type": "code",
   "execution_count": 10,
   "metadata": {},
   "outputs": [
    {
     "name": "stdout",
     "output_type": "stream",
     "text": [
      "enter dimensions2 2\n",
      "enter number row wise : 1 2\n",
      "enter number row wise : 3 4\n",
      "Transpose : \n",
      " [[1 3]\n",
      " [2 4]]\n",
      "[1 2 3 4]\n"
     ]
    }
   ],
   "source": [
    "import numpy\n",
    "n,m = map(int,input(\"enter dimensions : \").split())\n",
    "mat = numpy.array([[int(x) for x in input(\"enter number row wise : \").split()] for k in range(n)])\n",
    "print(\"Transpose : \\n {}\".format(numpy.transpose(mat)))\n",
    "print(mat.flatten())"
   ]
  },
  {
   "cell_type": "markdown",
   "metadata": {},
   "source": [
    "# concatenate\n",
    "\n",
    "Input Format\n",
    "\n",
    "The first line contains space separated integers N,M and P .\n",
    "The next N lines contains the space separated elements of the P columns.\n",
    "After that, the next M lines contains the space separated elements of the P columns.\n",
    "\n",
    "Print the concatenated array of size (N+M) X (P)"
   ]
  },
  {
   "cell_type": "code",
   "execution_count": 17,
   "metadata": {},
   "outputs": [
    {
     "name": "stdout",
     "output_type": "stream",
     "text": [
      "enter dimensions : 4 3 2\n",
      "Enter numbers : 1 2\n",
      "Enter numbers : 1 2\n",
      "Enter numbers : 1 2\n",
      "Enter numbers : 1 2\n",
      "[[1 2]\n",
      " [1 2]\n",
      " [1 2]\n",
      " [1 2]]\n"
     ]
    }
   ],
   "source": [
    "n,m,p= map(int,input(\"enter dimensions : \").split())\n",
    "arr1=[[int(i) for i in input(\"Enter numbers : \").split()] for k in range(n)]\n",
    "print(numpy.array(arr1))"
   ]
  },
  {
   "cell_type": "code",
   "execution_count": 18,
   "metadata": {},
   "outputs": [
    {
     "name": "stdout",
     "output_type": "stream",
     "text": [
      "Enter 2 numbers : 3 4\n",
      "Enter 2 numbers : 3 4\n",
      "Enter 2 numbers : 3 4\n",
      "[[3 4]\n",
      " [3 4]\n",
      " [3 4]]\n"
     ]
    }
   ],
   "source": [
    "arr2=[[int(i) for i in input(f\"Enter {p} numbers : \").split()] for k in range(m)]\n",
    "print(numpy.array(arr2))"
   ]
  },
  {
   "cell_type": "code",
   "execution_count": 19,
   "metadata": {},
   "outputs": [
    {
     "data": {
      "text/plain": [
       "array([[1, 2],\n",
       "       [1, 2],\n",
       "       [1, 2],\n",
       "       [1, 2],\n",
       "       [3, 4],\n",
       "       [3, 4],\n",
       "       [3, 4]])"
      ]
     },
     "execution_count": 19,
     "metadata": {},
     "output_type": "execute_result"
    }
   ],
   "source": [
    "numpy.concatenate([arr1, arr2], axis = 0) # adding row wise"
   ]
  },
  {
   "cell_type": "markdown",
   "metadata": {},
   "source": [
    "# zeros and ones"
   ]
  },
  {
   "cell_type": "code",
   "execution_count": 24,
   "metadata": {},
   "outputs": [
    {
     "name": "stdout",
     "output_type": "stream",
     "text": [
      "enter - elements *rows*cols : 3 3 3\n",
      "[[[0 0 0]\n",
      "  [0 0 0]\n",
      "  [0 0 0]]\n",
      "\n",
      " [[0 0 0]\n",
      "  [0 0 0]\n",
      "  [0 0 0]]\n",
      "\n",
      " [[0 0 0]\n",
      "  [0 0 0]\n",
      "  [0 0 0]]]\n",
      "[[[1 1 1]\n",
      "  [1 1 1]\n",
      "  [1 1 1]]\n",
      "\n",
      " [[1 1 1]\n",
      "  [1 1 1]\n",
      "  [1 1 1]]\n",
      "\n",
      " [[1 1 1]\n",
      "  [1 1 1]\n",
      "  [1 1 1]]]\n"
     ]
    }
   ],
   "source": [
    "N = [int(x) for x in input(\"enter - elements *rows*cols : \").split()]\n",
    "print(numpy.zeros(N, dtype = numpy.int))\n",
    "print(numpy.ones(N, dtype = numpy.int))"
   ]
  },
  {
   "cell_type": "markdown",
   "metadata": {},
   "source": [
    "# Eye and identity"
   ]
  },
  {
   "cell_type": "code",
   "execution_count": 27,
   "metadata": {},
   "outputs": [
    {
     "name": "stdout",
     "output_type": "stream",
     "text": [
      "enter dimensions row*cols : 3 3\n",
      "[[1. 0. 0.]\n",
      " [0. 1. 0.]\n",
      " [0. 0. 1.]]\n",
      "[[1. 0. 0.]\n",
      " [0. 1. 0.]\n",
      " [0. 0. 1.]]\n"
     ]
    }
   ],
   "source": [
    "n,m= map(int,input(\"enter dimensions row*cols : \").split())\n",
    "print(numpy.identity(n))\n",
    "print(numpy.eye(n,m))"
   ]
  },
  {
   "cell_type": "markdown",
   "metadata": {},
   "source": [
    "# array maths"
   ]
  },
  {
   "cell_type": "code",
   "execution_count": 28,
   "metadata": {},
   "outputs": [
    {
     "name": "stdout",
     "output_type": "stream",
     "text": [
      "Array size :1 4\n",
      "elements of A1 2 3 4\n",
      "elements of B5 6 7 8\n",
      "[[ 6  8 10 12]]\n",
      "[[-4 -4 -4 -4]]\n",
      "[[ 5 12 21 32]]\n",
      "[[0 0 0 0]]\n",
      "[[1 2 3 4]]\n",
      "[[    1    64  2187 65536]]\n"
     ]
    }
   ],
   "source": [
    "n,m=map(int,input(\"Array size :\").split())\n",
    "A=numpy.array([list(map(int,input(\"elements of A\").split())) for i in range(n)])\n",
    "B=numpy.array([list(map(int,input(\"elements of B\").split())) for i in range(n)])\n",
    "print(A+B,A-B,A*B,A//B,A%B,A**B,sep='\\n')"
   ]
  },
  {
   "cell_type": "markdown",
   "metadata": {},
   "source": [
    "# floor ceil rint"
   ]
  },
  {
   "cell_type": "code",
   "execution_count": 29,
   "metadata": {},
   "outputs": [
    {
     "name": "stdout",
     "output_type": "stream",
     "text": [
      "enter numbers : 1.1 2.2 3.3 4.4 5.5 6.6 7.7 8.8 9.9\n",
      "[1. 2. 3. 4. 5. 6. 7. 8. 9.]\n",
      "[ 2.  3.  4.  5.  6.  7.  8.  9. 10.]\n",
      "[ 1.  2.  3.  4.  6.  7.  8.  9. 10.]\n"
     ]
    }
   ],
   "source": [
    "A=numpy.array(list(map(float,input(\"enter numbers : \").split())))\n",
    "print(numpy.floor(A),numpy.ceil(A),numpy.rint(A),sep='\\n')"
   ]
  },
  {
   "cell_type": "markdown",
   "metadata": {},
   "source": [
    "#  sum and prod\n"
   ]
  },
  {
   "cell_type": "code",
   "execution_count": 30,
   "metadata": {},
   "outputs": [
    {
     "name": "stdout",
     "output_type": "stream",
     "text": [
      "enter dimensions : 2 2\n",
      "Enter numbers : 1 2\n",
      "Enter numbers : 3 4\n",
      "[[1 2]\n",
      " [3 4]]\n"
     ]
    }
   ],
   "source": [
    "r,c= map(int,input(\"enter dimensions : \").split())\n",
    "arr1=[[int(i) for i in input(\"Enter numbers : \").split()] for k in range(r)]\n",
    "print(numpy.array(arr1))"
   ]
  },
  {
   "cell_type": "code",
   "execution_count": 32,
   "metadata": {},
   "outputs": [
    {
     "name": "stdout",
     "output_type": "stream",
     "text": [
      "[4 6]\n",
      "24\n",
      "[3 7]\n"
     ]
    }
   ],
   "source": [
    "print(numpy.sum(arr1,axis=0))\n",
    "print(numpy.product(arr1))\n",
    "print(numpy.sum(arr1,axis=1))"
   ]
  },
  {
   "cell_type": "markdown",
   "metadata": {},
   "source": [
    "# MIN and Max"
   ]
  },
  {
   "cell_type": "code",
   "execution_count": 33,
   "metadata": {},
   "outputs": [
    {
     "name": "stdout",
     "output_type": "stream",
     "text": [
      "enter dimensions : 4 2\n",
      "Enter numbers : 2 5 \n",
      "Enter numbers : 3 7\n",
      "Enter numbers : 1 3\n",
      "Enter numbers : 4 0\n",
      "[[2 5]\n",
      " [3 7]\n",
      " [1 3]\n",
      " [4 0]]\n"
     ]
    }
   ],
   "source": [
    "r,c= map(int,input(\"enter dimensions : \").split())\n",
    "arr1=[[int(i) for i in input(\"Enter numbers : \").split()] for k in range(r)]\n",
    "print(numpy.array(arr1))"
   ]
  },
  {
   "cell_type": "code",
   "execution_count": 36,
   "metadata": {},
   "outputs": [
    {
     "name": "stdout",
     "output_type": "stream",
     "text": [
      "[1 0]\n",
      "[2 3 1 0]\n",
      "[4 7]\n",
      "[5 7 3 4]\n"
     ]
    }
   ],
   "source": [
    "print(numpy.min(arr1, axis = 0) )       \n",
    "print(numpy.min(arr1, axis = 1))\n",
    "print(numpy.max(arr1, axis = 0) )        \n",
    "print(numpy.max(arr1, axis = 1))"
   ]
  },
  {
   "cell_type": "markdown",
   "metadata": {},
   "source": [
    "# mean var std"
   ]
  },
  {
   "cell_type": "code",
   "execution_count": 37,
   "metadata": {},
   "outputs": [
    {
     "name": "stdout",
     "output_type": "stream",
     "text": [
      "enter dimensions : 2 2\n",
      "Enter numbers : 1 2\n",
      "Enter numbers : 3 4\n",
      "[[1 2]\n",
      " [3 4]]\n"
     ]
    }
   ],
   "source": [
    "r,c= map(int,input(\"enter dimensions : \").split())\n",
    "arr1=[[int(i) for i in input(\"Enter numbers : \").split()] for k in range(r)]\n",
    "print(numpy.array(arr1))"
   ]
  },
  {
   "cell_type": "code",
   "execution_count": 38,
   "metadata": {},
   "outputs": [
    {
     "name": "stdout",
     "output_type": "stream",
     "text": [
      "[1.5 3.5]\n",
      "[1. 1.]\n",
      "1.118033988749895\n"
     ]
    }
   ],
   "source": [
    "print(numpy.mean(arr1, axis = 1))\n",
    "print(numpy.var(arr1, axis = 0))\n",
    "print(numpy.std(arr1))"
   ]
  },
  {
   "cell_type": "markdown",
   "metadata": {},
   "source": [
    "# dot and cross"
   ]
  },
  {
   "cell_type": "code",
   "execution_count": 40,
   "metadata": {},
   "outputs": [
    {
     "name": "stdout",
     "output_type": "stream",
     "text": [
      "enter dimensions : 2\n",
      "Enter numbers : 1 2\n",
      "Enter numbers : 3 4\n",
      "[[1 2]\n",
      " [3 4]]\n"
     ]
    }
   ],
   "source": [
    "n=int(input(\"enter dimensions : \"))\n",
    "arr1=[[int(i) for i in input(\"Enter numbers : \").split()] for k in range(r)]\n",
    "print(numpy.array(arr1))"
   ]
  },
  {
   "cell_type": "code",
   "execution_count": 41,
   "metadata": {},
   "outputs": [
    {
     "name": "stdout",
     "output_type": "stream",
     "text": [
      "enter dimensions : 2\n",
      "Enter numbers : 1 2\n",
      "Enter numbers : 3 4\n",
      "[[1 2]\n",
      " [3 4]]\n"
     ]
    }
   ],
   "source": [
    "n=int(input(\"enter dimensions : \"))\n",
    "arr2=[[int(i) for i in input(\"Enter numbers : \").split()] for k in range(r)]\n",
    "print(numpy.array(arr2))"
   ]
  },
  {
   "cell_type": "code",
   "execution_count": 42,
   "metadata": {},
   "outputs": [
    {
     "name": "stdout",
     "output_type": "stream",
     "text": [
      "[0 0]\n",
      "[[ 7 10]\n",
      " [15 22]]\n"
     ]
    }
   ],
   "source": [
    "print(numpy.cross(arr1,arr2))\n",
    "print(numpy.dot(arr1,arr2))"
   ]
  },
  {
   "cell_type": "markdown",
   "metadata": {},
   "source": [
    "# inner and outer"
   ]
  },
  {
   "cell_type": "code",
   "execution_count": 44,
   "metadata": {},
   "outputs": [
    {
     "name": "stdout",
     "output_type": "stream",
     "text": [
      "Enter numbers : 0 1\n",
      "Enter numbers : 2 3\n",
      "[[3]]\n",
      "[[0 0]\n",
      " [2 3]]\n"
     ]
    }
   ],
   "source": [
    "arr1=[[int(i) for i in input(\"Enter numbers : \").split()] ]\n",
    "arr2=[[int(i) for i in input(\"Enter numbers : \").split()] ]\n",
    "print(numpy.inner(arr1, arr2))\n",
    "print(numpy.outer(arr1, arr2))\n"
   ]
  },
  {
   "cell_type": "markdown",
   "metadata": {},
   "source": [
    "# polynomials"
   ]
  },
  {
   "cell_type": "code",
   "execution_count": 45,
   "metadata": {},
   "outputs": [
    {
     "name": "stdout",
     "output_type": "stream",
     "text": [
      "values : 1.1 2 3\n",
      "x point : 0\n",
      "3.0\n"
     ]
    }
   ],
   "source": [
    "coefs=list(map(float,input(\"values : \").split()))\n",
    "x=float(input(\"x point : \"))\n",
    "\n",
    "print(numpy.polyval(coefs,x))"
   ]
  },
  {
   "cell_type": "markdown",
   "metadata": {},
   "source": [
    "# linear algebra"
   ]
  },
  {
   "cell_type": "code",
   "execution_count": 47,
   "metadata": {},
   "outputs": [
    {
     "name": "stdout",
     "output_type": "stream",
     "text": [
      "enter dimensions : 2\n",
      "Enter numbers : 1.1 1.1\n",
      "Enter numbers : 1.1 1.1\n",
      "[[1.1 1.1]\n",
      " [1.1 1.1]]\n"
     ]
    }
   ],
   "source": [
    "n=int(input(\"enter dimensions : \"))\n",
    "arr2=[[float(i) for i in input(\"Enter numbers : \").split()] for k in range(r)]\n",
    "print(numpy.array(arr2))"
   ]
  },
  {
   "cell_type": "code",
   "execution_count": 48,
   "metadata": {},
   "outputs": [
    {
     "name": "stdout",
     "output_type": "stream",
     "text": [
      "0.0\n"
     ]
    }
   ],
   "source": [
    "#find determinant\n",
    "print(numpy.linalg.det(arr2))"
   ]
  },
  {
   "cell_type": "code",
   "execution_count": null,
   "metadata": {},
   "outputs": [],
   "source": []
  }
 ],
 "metadata": {
  "kernelspec": {
   "display_name": "Python 3",
   "language": "python",
   "name": "python3"
  },
  "language_info": {
   "codemirror_mode": {
    "name": "ipython",
    "version": 3
   },
   "file_extension": ".py",
   "mimetype": "text/x-python",
   "name": "python",
   "nbconvert_exporter": "python",
   "pygments_lexer": "ipython3",
   "version": "3.8.5"
  }
 },
 "nbformat": 4,
 "nbformat_minor": 4
}
