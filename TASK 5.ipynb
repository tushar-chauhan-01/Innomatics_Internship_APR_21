{
 "cells": [
  {
   "cell_type": "markdown",
   "metadata": {},
   "source": [
    "# detect floating number"
   ]
  },
  {
   "cell_type": "code",
   "execution_count": 2,
   "metadata": {},
   "outputs": [
    {
     "name": "stdout",
     "output_type": "stream",
     "text": [
      "4\n",
      "4.00\n",
      "True\n",
      "-1.32\n",
      "True\n",
      "54\n",
      "False\n",
      "kkamcklc\n",
      "False\n"
     ]
    }
   ],
   "source": [
    "import re\n",
    "t = int(input())\n",
    "for _ in range(t):\n",
    "    num = input()\n",
    "    print(bool(re.match(r\"^[\\.\\+\\-\\d]\\d*\\.\\d+$\",num)))"
   ]
  },
  {
   "cell_type": "markdown",
   "metadata": {},
   "source": [
    "# re.split"
   ]
  },
  {
   "cell_type": "code",
   "execution_count": 3,
   "metadata": {},
   "outputs": [
    {
     "name": "stdout",
     "output_type": "stream",
     "text": [
      "100,000,000.000\n",
      "100\n",
      "000\n",
      "000\n",
      "000\n"
     ]
    }
   ],
   "source": [
    "  regex_pattern = r\"\"\n",
    "regex_pattern = r'[.,]+'\n",
    "import re\n",
    "print(\"\\n\".join(re.split(regex_pattern, input())))"
   ]
  },
  {
   "cell_type": "markdown",
   "metadata": {},
   "source": [
    "# Group(), Groups() & Groupdict()"
   ]
  },
  {
   "cell_type": "code",
   "execution_count": 5,
   "metadata": {},
   "outputs": [
    {
     "name": "stdout",
     "output_type": "stream",
     "text": [
      "enter input : ..12345678910111213141516171820212223\n",
      "1\n"
     ]
    }
   ],
   "source": [
    "import re\n",
    "variable = re.search(r\"([a-z0-9])\\1+\", input(\"enter input : \"))\n",
    "print(A.group(1) if A else -1)"
   ]
  },
  {
   "cell_type": "markdown",
   "metadata": {},
   "source": [
    "# Re.findall() & Re.finditer()"
   ]
  },
  {
   "cell_type": "code",
   "execution_count": 9,
   "metadata": {},
   "outputs": [
    {
     "name": "stdout",
     "output_type": "stream",
     "text": [
      "enter input : rabcdeefgyYhFjkIoomnpOeorteeeeet\n",
      "ee\n",
      "Ioo\n",
      "Oeo\n",
      "eeeee\n"
     ]
    }
   ],
   "source": [
    "import re\n",
    "\n",
    "match = re.findall(r'(?<=[^aeiou])[aeiou]{2,}(?=[^aeiou])',input(\"enter input : \").strip(),flags=re.I)\n",
    "if match : \n",
    "    print('\\n'.join(match))\n",
    "else : \n",
    "    print(-1)"
   ]
  },
  {
   "cell_type": "markdown",
   "metadata": {},
   "source": [
    "# Re.start() & Re.end()"
   ]
  },
  {
   "cell_type": "code",
   "execution_count": 10,
   "metadata": {},
   "outputs": [
    {
     "name": "stdout",
     "output_type": "stream",
     "text": [
      "enter sting : aaadaa\n",
      "enter substring : aa\n",
      "(0, 1)\n",
      "(1, 2)\n",
      "(4, 5)\n"
     ]
    }
   ],
   "source": [
    "import re\n",
    "t = input(\"enter sting : \")\n",
    "l = input(\"enter substring : \")\n",
    "matches = list(re.finditer(r'(?={})'.format(l), t))\n",
    "if matches:\n",
    "    print('\\n'.join(str((match.start(),\n",
    "          match.start() + len(l) - 1)) for match in matches))\n",
    "else:\n",
    "    print('(-1, -1)')"
   ]
  },
  {
   "cell_type": "markdown",
   "metadata": {},
   "source": [
    "# regex substitution"
   ]
  },
  {
   "cell_type": "code",
   "execution_count": 13,
   "metadata": {},
   "outputs": [
    {
     "name": "stdout",
     "output_type": "stream",
     "text": [
      "enter input number :2\n",
      "i like this && that\n",
      "i like this and that\n",
      "you || him\n",
      "you or him\n"
     ]
    }
   ],
   "source": [
    "import re\n",
    "S=int(input(\"enter input number :\"))\n",
    "for i in range(S):\n",
    "      pattern1=re.compile(r'(?<= )(&&)(?= )')\n",
    "      pattern2=re.compile(r'(?<= )(\\|\\|)(?= )')\n",
    "      print(pattern2.sub('or', pattern1.sub('and', input())))"
   ]
  },
  {
   "cell_type": "markdown",
   "metadata": {},
   "source": [
    "# Validating Roman Numerals"
   ]
  },
  {
   "cell_type": "code",
   "execution_count": 16,
   "metadata": {},
   "outputs": [
    {
     "name": "stdout",
     "output_type": "stream",
     "text": [
      " enter roman number CDXXI\n",
      "True\n"
     ]
    }
   ],
   "source": [
    "thousand = 'M{0,3}'\n",
    "hundred = '(C[MD]|D?C{0,3})'\n",
    "ten = '(X[CL]|L?X{0,3})'\n",
    "digit = '(I[VX]|V?I{0,3})'\n",
    "Regex_Pattern = r\"%s%s%s%s$\" % (thousand, hundred, ten, digit)\n",
    "import re\n",
    "print(str(bool(re.match(Regex_Pattern, input(\" enter roman number \")))))"
   ]
  },
  {
   "cell_type": "markdown",
   "metadata": {},
   "source": [
    "# Validating phone numbers"
   ]
  },
  {
   "cell_type": "code",
   "execution_count": 18,
   "metadata": {},
   "outputs": [
    {
     "name": "stdout",
     "output_type": "stream",
     "text": [
      " enter input number : 2\n",
      "enter phone number 9828727823\n",
      "YES\n",
      "enter phone number 01202837348\n",
      "NO\n"
     ]
    }
   ],
   "source": [
    "import re\n",
    "num = int(input(\" enter input number : \"))\n",
    "\n",
    "for i in range(num):\n",
    "    P_number = input(\"enter phone number \")\n",
    "    if(len(P_number)==10 and P_number.isdigit()):\n",
    "        output = re.findall(r\"^[789]\\d{9}$\",P_number)\n",
    "        if(len(output)==1):\n",
    "            print(\"YES\")\n",
    "        else:\n",
    "            print(\"NO\")\n",
    "    else:\n",
    "        print(\"NO\")"
   ]
  },
  {
   "cell_type": "markdown",
   "metadata": {},
   "source": [
    "# Validating and Parsing Email Addresses"
   ]
  },
  {
   "cell_type": "code",
   "execution_count": 21,
   "metadata": {},
   "outputs": [
    {
     "name": "stdout",
     "output_type": "stream",
     "text": [
      "Enter input number : 2\n",
      "enter name and email id : DEXTER <dexter@hotmail.com>\n",
      "DEXTER <dexter@hotmail.com>\n",
      "enter name and email id : VIRUS <virus!@variable.:p>\n"
     ]
    }
   ],
   "source": [
    "import re\n",
    "n=int(input(\"Enter input number : \"))\n",
    "for i in range(n):\n",
    "    name,email=input(\"enter name and email id : \").split()\n",
    "    pattern=\"<[a-z][a-zA-Z0-9\\-\\.\\_]+@[a-zA-Z]+\\.[a-zA-Z]{1,3}>\"\n",
    "    if bool(re.match(pattern,email)):\n",
    "        print(name,email)"
   ]
  },
  {
   "cell_type": "markdown",
   "metadata": {},
   "source": [
    "# hex color code"
   ]
  },
  {
   "cell_type": "code",
   "execution_count": 34,
   "metadata": {},
   "outputs": [
    {
     "name": "stdout",
     "output_type": "stream",
     "text": [
      "enter no. of code lines : 6\n",
      "enter code \n",
      "#bed\n",
      "{\n",
      "    color: #FfFdF8; background-color:#aef;\n",
      "#FfFdF8\n",
      "#aef\n",
      "    font-size: 123px;\n",
      "    background: -webkit-linear-gradient(top, #f9f9f9, #fff);\n",
      "#f9f9f9\n",
      "#fff\n",
      "}\n"
     ]
    }
   ],
   "source": [
    "import re\n",
    "num = int(input(\"enter no. of code lines : \"))\n",
    "in_css = False\n",
    "li=[]\n",
    "print(\"enter code \")\n",
    "for _ in range(num):\n",
    "    s = input()\n",
    "    if '{' in s:\n",
    "        in_css = True\n",
    "    elif '}' in s:\n",
    "        in_css = False\n",
    "    elif in_css:\n",
    "            for color in re.findall('#[0-9a-fA-F]{3,6}', s):\n",
    "                print(color)\n",
    "        "
   ]
  },
  {
   "cell_type": "markdown",
   "metadata": {},
   "source": [
    "# validating UDI"
   ]
  },
  {
   "cell_type": "code",
   "execution_count": 37,
   "metadata": {},
   "outputs": [
    {
     "name": "stdout",
     "output_type": "stream",
     "text": [
      "ENTER input number : 2\n",
      "enter udi : B1CD102354\n",
      "Invalid\n",
      "enter udi : B1CDEF2354\n",
      "Valid\n"
     ]
    }
   ],
   "source": [
    "import re\n",
    "\n",
    "for i in range(int(input(\"ENTER input number : \"))):\n",
    "    N = input(\"enter udi : \").strip()\n",
    "    if N.isalnum() and len(N) == 10:\n",
    "        if bool(re.search(r'(.*[A-Z]){2,}',N)) and bool(re.search(r'(.*[0-9]){3,}',N)):\n",
    "            if re.search(r'.*(.).*\\1+.*',N):\n",
    "                print('Invalid')\n",
    "            else:\n",
    "                print('Valid')\n",
    "        else:\n",
    "            print('Invalid')\n",
    "    else:\n",
    "        print('Invalid')"
   ]
  },
  {
   "cell_type": "markdown",
   "metadata": {},
   "source": [
    "# validating credit card number"
   ]
  },
  {
   "cell_type": "code",
   "execution_count": 38,
   "metadata": {},
   "outputs": [
    {
     "name": "stdout",
     "output_type": "stream",
     "text": [
      "enter no. of time u want to enter number  :3\n",
      "Enter cc number :4123456789123456\n",
      "Valid\n",
      "Enter cc number :5123-4567-8912-3456\n",
      "Valid\n",
      "Enter cc number :61234-567-8912-3456\n",
      "Invalid\n"
     ]
    }
   ],
   "source": [
    "import re\n",
    "\n",
    "def check_validity(cardnumber):\n",
    "    if not re.search(\"^[456]\\d{3}(-?\\d{4}){3}$\",cardnumber) or re.search(r\"(\\d)\\1{3}\", re.sub(\"-\", \"\",cardnumber)):\n",
    "        return False\n",
    "    return True\n",
    "\n",
    "for i in range(int(input(\"enter no. of time u want to enter number  :\"))):\n",
    "    print(\"Valid\" if check_validity(input(\"Enter cc number :\")) else \"Invalid\")"
   ]
  },
  {
   "cell_type": "markdown",
   "metadata": {},
   "source": [
    "# validating postal codes"
   ]
  },
  {
   "cell_type": "code",
   "execution_count": 39,
   "metadata": {},
   "outputs": [
    {
     "name": "stdout",
     "output_type": "stream",
     "text": [
      "enter postal id110000\n",
      "False\n"
     ]
    }
   ],
   "source": [
    "integer_in_range = r'^[1-9][\\d]{5}$' \n",
    "alternating_repetitive_digit_pair = r'(\\d)(?=\\d\\1)' \n",
    "\n",
    "import re\n",
    "num = input(\"enter postal id\")\n",
    "\n",
    "print (bool(re.match(integer_in_range, num)) \n",
    "and len(re.findall(alternating_repetitive_digit_pair, num)) < 2)"
   ]
  },
  {
   "cell_type": "markdown",
   "metadata": {},
   "source": [
    "# Matrix script"
   ]
  },
  {
   "cell_type": "code",
   "execution_count": 46,
   "metadata": {},
   "outputs": [
    {
     "name": "stdout",
     "output_type": "stream",
     "text": [
      "7 3\n",
      "Tsi\n",
      "h%x\n",
      "i #\n",
      "sM \n",
      "$a \n",
      "#t%\n",
      "ir!\n",
      "This is Matrix#  %!\n"
     ]
    }
   ],
   "source": [
    "import re\n",
    "\n",
    "def decode(row, col, li):\n",
    "    a = \"\"\n",
    "    for i in range(col):\n",
    "        for j in range(row):\n",
    "            a = a + li[j][i]\n",
    "    return re.sub(r\"([A-Za-z0-9])[ !@#$%&]+([A-Za-z0-9])\", r\"\\1 \\2\", a)\n",
    "\n",
    "(row, col) = [int(x) for x in input(\"enter dimesion of matrix : \").split(' ')]\n",
    "li = []\n",
    "for i in range(n):\n",
    "    li.append(input())\n",
    "print(decode(row, col, li))"
   ]
  },
  {
   "cell_type": "code",
   "execution_count": null,
   "metadata": {},
   "outputs": [],
   "source": []
  }
 ],
 "metadata": {
  "kernelspec": {
   "display_name": "Python 3",
   "language": "python",
   "name": "python3"
  },
  "language_info": {
   "codemirror_mode": {
    "name": "ipython",
    "version": 3
   },
   "file_extension": ".py",
   "mimetype": "text/x-python",
   "name": "python",
   "nbconvert_exporter": "python",
   "pygments_lexer": "ipython3",
   "version": "3.8.5"
  }
 },
 "nbformat": 4,
 "nbformat_minor": 4
}
